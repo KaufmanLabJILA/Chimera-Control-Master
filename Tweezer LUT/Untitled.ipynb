{
 "cells": [
  {
   "cell_type": "code",
   "execution_count": 1,
   "metadata": {},
   "outputs": [],
   "source": [
    "import numpy as np"
   ]
  },
  {
   "cell_type": "code",
   "execution_count": 2,
   "metadata": {},
   "outputs": [],
   "source": [
    "s = np.load('subpixelLUT.npy')"
   ]
  },
  {
   "cell_type": "code",
   "execution_count": 3,
   "metadata": {},
   "outputs": [
    {
     "data": {
      "text/plain": [
       "array([[-0.30196739, -0.28686398],\n",
       "       [-0.1533088 , -0.29125129],\n",
       "       [-0.00465022, -0.29563859],\n",
       "       [ 0.14400836, -0.30002589],\n",
       "       [ 0.29266694, -0.30441319],\n",
       "       [-0.29964228, -0.13904469],\n",
       "       [-0.15098369, -0.14343199],\n",
       "       [-0.00232511, -0.14781929],\n",
       "       [ 0.14633347, -0.1522066 ],\n",
       "       [ 0.29499206, -0.1565939 ],\n",
       "       [-0.29731717,  0.00877461],\n",
       "       [-0.14865858,  0.0043873 ],\n",
       "       [ 0.        ,  0.        ],\n",
       "       [ 0.14865858, -0.0043873 ],\n",
       "       [ 0.29731717, -0.00877461],\n",
       "       [-0.29499206,  0.1565939 ],\n",
       "       [-0.14633347,  0.1522066 ],\n",
       "       [ 0.00232511,  0.14781929],\n",
       "       [ 0.15098369,  0.14343199],\n",
       "       [ 0.29964228,  0.13904469],\n",
       "       [-0.29266694,  0.30441319],\n",
       "       [-0.14400836,  0.30002589],\n",
       "       [ 0.00465022,  0.29563859],\n",
       "       [ 0.1533088 ,  0.29125129],\n",
       "       [ 0.30196739,  0.28686398]])"
      ]
     },
     "execution_count": 3,
     "metadata": {},
     "output_type": "execute_result"
    }
   ],
   "source": [
    "s"
   ]
  },
  {
   "cell_type": "code",
   "execution_count": null,
   "metadata": {},
   "outputs": [],
   "source": []
  }
 ],
 "metadata": {
  "kernelspec": {
   "display_name": "Python 3",
   "language": "python",
   "name": "python3"
  },
  "language_info": {
   "codemirror_mode": {
    "name": "ipython",
    "version": 3
   },
   "file_extension": ".py",
   "mimetype": "text/x-python",
   "name": "python",
   "nbconvert_exporter": "python",
   "pygments_lexer": "ipython3",
   "version": "3.8.5"
  }
 },
 "nbformat": 4,
 "nbformat_minor": 5
}
